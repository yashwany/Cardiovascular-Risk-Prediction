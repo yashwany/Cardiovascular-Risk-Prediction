{
  "nbformat": 4,
  "nbformat_minor": 0,
  "metadata": {
    "colab": {
      "name": "Capstone Project Cardiovascular Risk Prediction.ipynb",
      "provenance": [],
      "authorship_tag": "ABX9TyPMz3EnwtgtafFLVk+g7RC1",
      "include_colab_link": true
    },
    "kernelspec": {
      "name": "python3",
      "display_name": "Python 3"
    },
    "language_info": {
      "name": "python"
    }
  },
  "cells": [
    {
      "cell_type": "markdown",
      "metadata": {
        "id": "view-in-github",
        "colab_type": "text"
      },
      "source": [
        "<a href=\"https://colab.research.google.com/github/yashwany/Cardiovascular-Risk-Prediction/blob/main/Capstone_Project_Cardiovascular_Risk_Prediction.ipynb\" target=\"_parent\"><img src=\"https://colab.research.google.com/assets/colab-badge.svg\" alt=\"Open In Colab\"/></a>"
      ]
    },
    {
      "cell_type": "markdown",
      "metadata": {
        "id": "5dIiz0rpjEu3"
      },
      "source": [
        "# **Cardiovascular Risk Prediction Project**"
      ]
    },
    {
      "cell_type": "markdown",
      "metadata": {
        "id": "sd-9Q8BljEvR"
      },
      "source": [
        "**The dataset is from an ongoing cardiovascular study on residents of the town of Framingham,\n",
        "Massachusetts. The classification goal is to predict whether the patient has a 10-year risk of\n",
        "future coronary heart disease (CHD). The dataset provides the patients’ information. It includes\n",
        "over 4,000 records and 15 attributes.**"
      ]
    },
    {
      "cell_type": "markdown",
      "metadata": {
        "id": "bYjLa7GhjEvT"
      },
      "source": [
        "# **Data Description :**"
      ]
    },
    {
      "cell_type": "markdown",
      "metadata": {
        "id": "Hws33E89jEvT"
      },
      "source": [
        "**Variables :**\n",
        "\n",
        "**Each attribute is a potential risk factor. There are both demographic, behavioral, and medical risk\n",
        "factors.**"
      ]
    },
    {
      "cell_type": "markdown",
      "metadata": {
        "id": "LeW5Sz_ojEvU"
      },
      "source": [
        "**Demographic:**\n",
        "\n",
        "• Sex: male or female(\"M\" or \"F\")\n",
        "\n",
        "• Age: Age of the patient;(Continuous - Although the recorded ages have been truncated to\n",
        "whole numbers, the concept of age is continuous)\n",
        "\n",
        "**Behavioral :**\n",
        "\n",
        "• is_smoking: whether or not the patient is a current smoker (\"YES\" or \"NO\")\n",
        "\n",
        "• Cigs Per Day: the number of cigarettes that the person smoked on average in one day.(can be considered continuous as one can have any number of cigarettes, even half a cigarette.) \n",
        "\n",
        "**Medical( history)**\n",
        "\n",
        "\n",
        "• BP Meds: whether or not the patient was on blood pressure medication (Nominal)\n",
        "\n",
        "• Prevalent Stroke: whether or not the patient had previously had a stroke (Nominal)\n",
        "\n",
        "• Prevalent Hyp: whether or not the patient was hypertensive (Nominal)\n",
        "\n",
        "• Diabetes: whether or not the patient had diabetes (Nominal)\n",
        "\n",
        "**Medical(current)**\n",
        "\n",
        "• Tot Chol: total cholesterol level (Continuous)\n",
        "\n",
        "• Sys BP: systolic blood pressure (Continuous)\n",
        "\n",
        "• Dia BP: diastolic blood pressure (Continuous)\n",
        "\n",
        "• BMI: Body Mass Index (Continuous)\n",
        "\n",
        "• Heart Rate: heart rate (Continuous - In medical research, variables such as heart rate though in fact discrete, yet are considered continuous because of large number of possible values.)\n",
        "\n",
        "• Glucose: glucose level (Continuous)\n",
        "\n",
        "**•Predict variable (desired target)**\n",
        "\n",
        "10-year risk of coronary heart disease CHD(binary: “1”, means “Yes”, “0” means “No”) -\n",
        "Dv "
      ]
    },
    {
      "cell_type": "markdown",
      "source": [
        "![download (1).jpg](data:image/jpeg;base64,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)"
      ],
      "metadata": {
        "id": "2KvgCUkf8KGm"
      }
    },
    {
      "cell_type": "markdown",
      "source": [
        "# **Importing essential libraries**"
      ],
      "metadata": {
        "id": "dz6nHiWCpBiX"
      }
    },
    {
      "cell_type": "code",
      "source": [
        "#import required packages and libraries\n",
        "import pandas as pd      \n",
        "import numpy as np                  \n",
        "import matplotlib.pyplot as plt    \n",
        "import seaborn as sns               \n",
        "import missingno as mno             \n",
        "import warnings                     \n",
        "warnings.filterwarnings('ignore')\n",
        "from scipy import stats             \n",
        "%matplotlib inline\n",
        "sns.set_style(\"whitegrid\")\n",
        "plt.style.use(\"fivethirtyeight\")\n",
        "from statsmodels.stats.outliers_influence import variance_inflation_factor\n",
        "import os"
      ],
      "metadata": {
        "id": "zZjveHxehx-V"
      },
      "execution_count": 1,
      "outputs": []
    },
    {
      "cell_type": "code",
      "source": [
        "#set style for graph\n",
        "sns.set_style(style='darkgrid')\n",
        "\n",
        "# Setting fontsizes,fontweight,label weight for labels,titles.\n",
        "plt.rcParams[\"font.weight\"] = \"bold\"\n",
        "plt.rcParams[\"axes.labelweight\"] = \"bold\"\n",
        "plt.rcParams[\"axes.titlesize\"] = 25\n",
        "plt.rcParams[\"axes.titleweight\"] = 'bold'\n",
        "plt.rcParams['xtick.labelsize']=15\n",
        "plt.rcParams['ytick.labelsize']=15\n",
        "plt.rcParams[\"axes.labelsize\"] = 20\n",
        "plt.rcParams[\"legend.fontsize\"] = 15\n",
        "plt.rcParams[\"legend.title_fontsize\"] = 15"
      ],
      "metadata": {
        "id": "Nif0mT_11L8M"
      },
      "execution_count": 2,
      "outputs": []
    },
    {
      "cell_type": "markdown",
      "source": [
        "## **Mounting Drive**"
      ],
      "metadata": {
        "id": "vi-jlJv61SzF"
      }
    },
    {
      "cell_type": "code",
      "source": [
        "#Mounting Drive \n",
        "from google.colab import drive\n",
        "drive.mount('/content/drive')"
      ],
      "metadata": {
        "colab": {
          "base_uri": "https://localhost:8080/"
        },
        "id": "CXpeH3-Whoav",
        "outputId": "fb062c23-34eb-4b1a-90bd-8f8ac542e14a"
      },
      "execution_count": 3,
      "outputs": [
        {
          "output_type": "stream",
          "name": "stdout",
          "text": [
            "Mounted at /content/drive\n"
          ]
        }
      ]
    },
    {
      "cell_type": "code",
      "source": [
        "# Loading data set of csv file\n",
        "df=pd.read_csv('/content/drive/MyDrive/data_cardiovascular_risk.csv')"
      ],
      "metadata": {
        "id": "t9HY2-Y4h1aT"
      },
      "execution_count": 4,
      "outputs": []
    },
    {
      "cell_type": "markdown",
      "source": [
        "# **Data Summary**\n",
        "\n",
        "- Size of the dataset.\n",
        "- Printing few rows of it.\n",
        "- What type of feature in our dataset."
      ],
      "metadata": {
        "id": "ufQ2eGzqh8xt"
      }
    },
    {
      "cell_type": "code",
      "source": [
        "#To view the dataset \n",
        "df.head()"
      ],
      "metadata": {
        "colab": {
          "base_uri": "https://localhost:8080/",
          "height": 206
        },
        "id": "g91527t9hq6T",
        "outputId": "6f147f97-cf1b-4cb7-d9a8-66a18d4c44a9"
      },
      "execution_count": 5,
      "outputs": [
        {
          "output_type": "execute_result",
          "data": {
            "text/plain": [
              "   id  age  education sex is_smoking  cigsPerDay  BPMeds  prevalentStroke  \\\n",
              "0   0   64        2.0   F        YES         3.0     0.0                0   \n",
              "1   1   36        4.0   M         NO         0.0     0.0                0   \n",
              "2   2   46        1.0   F        YES        10.0     0.0                0   \n",
              "3   3   50        1.0   M        YES        20.0     0.0                0   \n",
              "4   4   64        1.0   F        YES        30.0     0.0                0   \n",
              "\n",
              "   prevalentHyp  diabetes  totChol  sysBP  diaBP    BMI  heartRate  glucose  \\\n",
              "0             0         0    221.0  148.0   85.0    NaN       90.0     80.0   \n",
              "1             1         0    212.0  168.0   98.0  29.77       72.0     75.0   \n",
              "2             0         0    250.0  116.0   71.0  20.35       88.0     94.0   \n",
              "3             1         0    233.0  158.0   88.0  28.26       68.0     94.0   \n",
              "4             0         0    241.0  136.5   85.0  26.42       70.0     77.0   \n",
              "\n",
              "   TenYearCHD  \n",
              "0           1  \n",
              "1           0  \n",
              "2           0  \n",
              "3           1  \n",
              "4           0  "
            ],
            "text/html": [
              "\n",
              "  <div id=\"df-3cc31339-34b5-4421-ab7c-e819b5285643\">\n",
              "    <div class=\"colab-df-container\">\n",
              "      <div>\n",
              "<style scoped>\n",
              "    .dataframe tbody tr th:only-of-type {\n",
              "        vertical-align: middle;\n",
              "    }\n",
              "\n",
              "    .dataframe tbody tr th {\n",
              "        vertical-align: top;\n",
              "    }\n",
              "\n",
              "    .dataframe thead th {\n",
              "        text-align: right;\n",
              "    }\n",
              "</style>\n",
              "<table border=\"1\" class=\"dataframe\">\n",
              "  <thead>\n",
              "    <tr style=\"text-align: right;\">\n",
              "      <th></th>\n",
              "      <th>id</th>\n",
              "      <th>age</th>\n",
              "      <th>education</th>\n",
              "      <th>sex</th>\n",
              "      <th>is_smoking</th>\n",
              "      <th>cigsPerDay</th>\n",
              "      <th>BPMeds</th>\n",
              "      <th>prevalentStroke</th>\n",
              "      <th>prevalentHyp</th>\n",
              "      <th>diabetes</th>\n",
              "      <th>totChol</th>\n",
              "      <th>sysBP</th>\n",
              "      <th>diaBP</th>\n",
              "      <th>BMI</th>\n",
              "      <th>heartRate</th>\n",
              "      <th>glucose</th>\n",
              "      <th>TenYearCHD</th>\n",
              "    </tr>\n",
              "  </thead>\n",
              "  <tbody>\n",
              "    <tr>\n",
              "      <th>0</th>\n",
              "      <td>0</td>\n",
              "      <td>64</td>\n",
              "      <td>2.0</td>\n",
              "      <td>F</td>\n",
              "      <td>YES</td>\n",
              "      <td>3.0</td>\n",
              "      <td>0.0</td>\n",
              "      <td>0</td>\n",
              "      <td>0</td>\n",
              "      <td>0</td>\n",
              "      <td>221.0</td>\n",
              "      <td>148.0</td>\n",
              "      <td>85.0</td>\n",
              "      <td>NaN</td>\n",
              "      <td>90.0</td>\n",
              "      <td>80.0</td>\n",
              "      <td>1</td>\n",
              "    </tr>\n",
              "    <tr>\n",
              "      <th>1</th>\n",
              "      <td>1</td>\n",
              "      <td>36</td>\n",
              "      <td>4.0</td>\n",
              "      <td>M</td>\n",
              "      <td>NO</td>\n",
              "      <td>0.0</td>\n",
              "      <td>0.0</td>\n",
              "      <td>0</td>\n",
              "      <td>1</td>\n",
              "      <td>0</td>\n",
              "      <td>212.0</td>\n",
              "      <td>168.0</td>\n",
              "      <td>98.0</td>\n",
              "      <td>29.77</td>\n",
              "      <td>72.0</td>\n",
              "      <td>75.0</td>\n",
              "      <td>0</td>\n",
              "    </tr>\n",
              "    <tr>\n",
              "      <th>2</th>\n",
              "      <td>2</td>\n",
              "      <td>46</td>\n",
              "      <td>1.0</td>\n",
              "      <td>F</td>\n",
              "      <td>YES</td>\n",
              "      <td>10.0</td>\n",
              "      <td>0.0</td>\n",
              "      <td>0</td>\n",
              "      <td>0</td>\n",
              "      <td>0</td>\n",
              "      <td>250.0</td>\n",
              "      <td>116.0</td>\n",
              "      <td>71.0</td>\n",
              "      <td>20.35</td>\n",
              "      <td>88.0</td>\n",
              "      <td>94.0</td>\n",
              "      <td>0</td>\n",
              "    </tr>\n",
              "    <tr>\n",
              "      <th>3</th>\n",
              "      <td>3</td>\n",
              "      <td>50</td>\n",
              "      <td>1.0</td>\n",
              "      <td>M</td>\n",
              "      <td>YES</td>\n",
              "      <td>20.0</td>\n",
              "      <td>0.0</td>\n",
              "      <td>0</td>\n",
              "      <td>1</td>\n",
              "      <td>0</td>\n",
              "      <td>233.0</td>\n",
              "      <td>158.0</td>\n",
              "      <td>88.0</td>\n",
              "      <td>28.26</td>\n",
              "      <td>68.0</td>\n",
              "      <td>94.0</td>\n",
              "      <td>1</td>\n",
              "    </tr>\n",
              "    <tr>\n",
              "      <th>4</th>\n",
              "      <td>4</td>\n",
              "      <td>64</td>\n",
              "      <td>1.0</td>\n",
              "      <td>F</td>\n",
              "      <td>YES</td>\n",
              "      <td>30.0</td>\n",
              "      <td>0.0</td>\n",
              "      <td>0</td>\n",
              "      <td>0</td>\n",
              "      <td>0</td>\n",
              "      <td>241.0</td>\n",
              "      <td>136.5</td>\n",
              "      <td>85.0</td>\n",
              "      <td>26.42</td>\n",
              "      <td>70.0</td>\n",
              "      <td>77.0</td>\n",
              "      <td>0</td>\n",
              "    </tr>\n",
              "  </tbody>\n",
              "</table>\n",
              "</div>\n",
              "      <button class=\"colab-df-convert\" onclick=\"convertToInteractive('df-3cc31339-34b5-4421-ab7c-e819b5285643')\"\n",
              "              title=\"Convert this dataframe to an interactive table.\"\n",
              "              style=\"display:none;\">\n",
              "        \n",
              "  <svg xmlns=\"http://www.w3.org/2000/svg\" height=\"24px\"viewBox=\"0 0 24 24\"\n",
              "       width=\"24px\">\n",
              "    <path d=\"M0 0h24v24H0V0z\" fill=\"none\"/>\n",
              "    <path d=\"M18.56 5.44l.94 2.06.94-2.06 2.06-.94-2.06-.94-.94-2.06-.94 2.06-2.06.94zm-11 1L8.5 8.5l.94-2.06 2.06-.94-2.06-.94L8.5 2.5l-.94 2.06-2.06.94zm10 10l.94 2.06.94-2.06 2.06-.94-2.06-.94-.94-2.06-.94 2.06-2.06.94z\"/><path d=\"M17.41 7.96l-1.37-1.37c-.4-.4-.92-.59-1.43-.59-.52 0-1.04.2-1.43.59L10.3 9.45l-7.72 7.72c-.78.78-.78 2.05 0 2.83L4 21.41c.39.39.9.59 1.41.59.51 0 1.02-.2 1.41-.59l7.78-7.78 2.81-2.81c.8-.78.8-2.07 0-2.86zM5.41 20L4 18.59l7.72-7.72 1.47 1.35L5.41 20z\"/>\n",
              "  </svg>\n",
              "      </button>\n",
              "      \n",
              "  <style>\n",
              "    .colab-df-container {\n",
              "      display:flex;\n",
              "      flex-wrap:wrap;\n",
              "      gap: 12px;\n",
              "    }\n",
              "\n",
              "    .colab-df-convert {\n",
              "      background-color: #E8F0FE;\n",
              "      border: none;\n",
              "      border-radius: 50%;\n",
              "      cursor: pointer;\n",
              "      display: none;\n",
              "      fill: #1967D2;\n",
              "      height: 32px;\n",
              "      padding: 0 0 0 0;\n",
              "      width: 32px;\n",
              "    }\n",
              "\n",
              "    .colab-df-convert:hover {\n",
              "      background-color: #E2EBFA;\n",
              "      box-shadow: 0px 1px 2px rgba(60, 64, 67, 0.3), 0px 1px 3px 1px rgba(60, 64, 67, 0.15);\n",
              "      fill: #174EA6;\n",
              "    }\n",
              "\n",
              "    [theme=dark] .colab-df-convert {\n",
              "      background-color: #3B4455;\n",
              "      fill: #D2E3FC;\n",
              "    }\n",
              "\n",
              "    [theme=dark] .colab-df-convert:hover {\n",
              "      background-color: #434B5C;\n",
              "      box-shadow: 0px 1px 3px 1px rgba(0, 0, 0, 0.15);\n",
              "      filter: drop-shadow(0px 1px 2px rgba(0, 0, 0, 0.3));\n",
              "      fill: #FFFFFF;\n",
              "    }\n",
              "  </style>\n",
              "\n",
              "      <script>\n",
              "        const buttonEl =\n",
              "          document.querySelector('#df-3cc31339-34b5-4421-ab7c-e819b5285643 button.colab-df-convert');\n",
              "        buttonEl.style.display =\n",
              "          google.colab.kernel.accessAllowed ? 'block' : 'none';\n",
              "\n",
              "        async function convertToInteractive(key) {\n",
              "          const element = document.querySelector('#df-3cc31339-34b5-4421-ab7c-e819b5285643');\n",
              "          const dataTable =\n",
              "            await google.colab.kernel.invokeFunction('convertToInteractive',\n",
              "                                                     [key], {});\n",
              "          if (!dataTable) return;\n",
              "\n",
              "          const docLinkHtml = 'Like what you see? Visit the ' +\n",
              "            '<a target=\"_blank\" href=https://colab.research.google.com/notebooks/data_table.ipynb>data table notebook</a>'\n",
              "            + ' to learn more about interactive tables.';\n",
              "          element.innerHTML = '';\n",
              "          dataTable['output_type'] = 'display_data';\n",
              "          await google.colab.output.renderOutput(dataTable, element);\n",
              "          const docLink = document.createElement('div');\n",
              "          docLink.innerHTML = docLinkHtml;\n",
              "          element.appendChild(docLink);\n",
              "        }\n",
              "      </script>\n",
              "    </div>\n",
              "  </div>\n",
              "  "
            ]
          },
          "metadata": {},
          "execution_count": 5
        }
      ]
    },
    {
      "cell_type": "code",
      "source": [
        "df.tail()"
      ],
      "metadata": {
        "colab": {
          "base_uri": "https://localhost:8080/",
          "height": 250
        },
        "id": "BKqTzVBciEDy",
        "outputId": "3a374d49-17b9-4f0b-c101-8940bb945f2b"
      },
      "execution_count": 6,
      "outputs": [
        {
          "output_type": "execute_result",
          "data": {
            "text/plain": [
              "        id  age  education sex is_smoking  cigsPerDay  BPMeds  \\\n",
              "3385  3385   60        1.0   F         NO         0.0     0.0   \n",
              "3386  3386   46        1.0   F         NO         0.0     0.0   \n",
              "3387  3387   44        3.0   M        YES         3.0     0.0   \n",
              "3388  3388   60        1.0   M         NO         0.0     NaN   \n",
              "3389  3389   54        3.0   F         NO         0.0     0.0   \n",
              "\n",
              "      prevalentStroke  prevalentHyp  diabetes  totChol  sysBP  diaBP    BMI  \\\n",
              "3385                0             0         0    261.0  123.5   79.0  29.28   \n",
              "3386                0             0         0    199.0  102.0   56.0  21.96   \n",
              "3387                0             1         0    352.0  164.0  119.0  28.92   \n",
              "3388                0             1         0    191.0  167.0  105.0  23.01   \n",
              "3389                0             0         0    288.0  124.0   77.0  29.88   \n",
              "\n",
              "      heartRate  glucose  TenYearCHD  \n",
              "3385       70.0    103.0           0  \n",
              "3386       80.0     84.0           0  \n",
              "3387       73.0     72.0           1  \n",
              "3388       80.0     85.0           0  \n",
              "3389       79.0     92.0           0  "
            ],
            "text/html": [
              "\n",
              "  <div id=\"df-2fcf331b-e414-4177-b197-40ed1709f26c\">\n",
              "    <div class=\"colab-df-container\">\n",
              "      <div>\n",
              "<style scoped>\n",
              "    .dataframe tbody tr th:only-of-type {\n",
              "        vertical-align: middle;\n",
              "    }\n",
              "\n",
              "    .dataframe tbody tr th {\n",
              "        vertical-align: top;\n",
              "    }\n",
              "\n",
              "    .dataframe thead th {\n",
              "        text-align: right;\n",
              "    }\n",
              "</style>\n",
              "<table border=\"1\" class=\"dataframe\">\n",
              "  <thead>\n",
              "    <tr style=\"text-align: right;\">\n",
              "      <th></th>\n",
              "      <th>id</th>\n",
              "      <th>age</th>\n",
              "      <th>education</th>\n",
              "      <th>sex</th>\n",
              "      <th>is_smoking</th>\n",
              "      <th>cigsPerDay</th>\n",
              "      <th>BPMeds</th>\n",
              "      <th>prevalentStroke</th>\n",
              "      <th>prevalentHyp</th>\n",
              "      <th>diabetes</th>\n",
              "      <th>totChol</th>\n",
              "      <th>sysBP</th>\n",
              "      <th>diaBP</th>\n",
              "      <th>BMI</th>\n",
              "      <th>heartRate</th>\n",
              "      <th>glucose</th>\n",
              "      <th>TenYearCHD</th>\n",
              "    </tr>\n",
              "  </thead>\n",
              "  <tbody>\n",
              "    <tr>\n",
              "      <th>3385</th>\n",
              "      <td>3385</td>\n",
              "      <td>60</td>\n",
              "      <td>1.0</td>\n",
              "      <td>F</td>\n",
              "      <td>NO</td>\n",
              "      <td>0.0</td>\n",
              "      <td>0.0</td>\n",
              "      <td>0</td>\n",
              "      <td>0</td>\n",
              "      <td>0</td>\n",
              "      <td>261.0</td>\n",
              "      <td>123.5</td>\n",
              "      <td>79.0</td>\n",
              "      <td>29.28</td>\n",
              "      <td>70.0</td>\n",
              "      <td>103.0</td>\n",
              "      <td>0</td>\n",
              "    </tr>\n",
              "    <tr>\n",
              "      <th>3386</th>\n",
              "      <td>3386</td>\n",
              "      <td>46</td>\n",
              "      <td>1.0</td>\n",
              "      <td>F</td>\n",
              "      <td>NO</td>\n",
              "      <td>0.0</td>\n",
              "      <td>0.0</td>\n",
              "      <td>0</td>\n",
              "      <td>0</td>\n",
              "      <td>0</td>\n",
              "      <td>199.0</td>\n",
              "      <td>102.0</td>\n",
              "      <td>56.0</td>\n",
              "      <td>21.96</td>\n",
              "      <td>80.0</td>\n",
              "      <td>84.0</td>\n",
              "      <td>0</td>\n",
              "    </tr>\n",
              "    <tr>\n",
              "      <th>3387</th>\n",
              "      <td>3387</td>\n",
              "      <td>44</td>\n",
              "      <td>3.0</td>\n",
              "      <td>M</td>\n",
              "      <td>YES</td>\n",
              "      <td>3.0</td>\n",
              "      <td>0.0</td>\n",
              "      <td>0</td>\n",
              "      <td>1</td>\n",
              "      <td>0</td>\n",
              "      <td>352.0</td>\n",
              "      <td>164.0</td>\n",
              "      <td>119.0</td>\n",
              "      <td>28.92</td>\n",
              "      <td>73.0</td>\n",
              "      <td>72.0</td>\n",
              "      <td>1</td>\n",
              "    </tr>\n",
              "    <tr>\n",
              "      <th>3388</th>\n",
              "      <td>3388</td>\n",
              "      <td>60</td>\n",
              "      <td>1.0</td>\n",
              "      <td>M</td>\n",
              "      <td>NO</td>\n",
              "      <td>0.0</td>\n",
              "      <td>NaN</td>\n",
              "      <td>0</td>\n",
              "      <td>1</td>\n",
              "      <td>0</td>\n",
              "      <td>191.0</td>\n",
              "      <td>167.0</td>\n",
              "      <td>105.0</td>\n",
              "      <td>23.01</td>\n",
              "      <td>80.0</td>\n",
              "      <td>85.0</td>\n",
              "      <td>0</td>\n",
              "    </tr>\n",
              "    <tr>\n",
              "      <th>3389</th>\n",
              "      <td>3389</td>\n",
              "      <td>54</td>\n",
              "      <td>3.0</td>\n",
              "      <td>F</td>\n",
              "      <td>NO</td>\n",
              "      <td>0.0</td>\n",
              "      <td>0.0</td>\n",
              "      <td>0</td>\n",
              "      <td>0</td>\n",
              "      <td>0</td>\n",
              "      <td>288.0</td>\n",
              "      <td>124.0</td>\n",
              "      <td>77.0</td>\n",
              "      <td>29.88</td>\n",
              "      <td>79.0</td>\n",
              "      <td>92.0</td>\n",
              "      <td>0</td>\n",
              "    </tr>\n",
              "  </tbody>\n",
              "</table>\n",
              "</div>\n",
              "      <button class=\"colab-df-convert\" onclick=\"convertToInteractive('df-2fcf331b-e414-4177-b197-40ed1709f26c')\"\n",
              "              title=\"Convert this dataframe to an interactive table.\"\n",
              "              style=\"display:none;\">\n",
              "        \n",
              "  <svg xmlns=\"http://www.w3.org/2000/svg\" height=\"24px\"viewBox=\"0 0 24 24\"\n",
              "       width=\"24px\">\n",
              "    <path d=\"M0 0h24v24H0V0z\" fill=\"none\"/>\n",
              "    <path d=\"M18.56 5.44l.94 2.06.94-2.06 2.06-.94-2.06-.94-.94-2.06-.94 2.06-2.06.94zm-11 1L8.5 8.5l.94-2.06 2.06-.94-2.06-.94L8.5 2.5l-.94 2.06-2.06.94zm10 10l.94 2.06.94-2.06 2.06-.94-2.06-.94-.94-2.06-.94 2.06-2.06.94z\"/><path d=\"M17.41 7.96l-1.37-1.37c-.4-.4-.92-.59-1.43-.59-.52 0-1.04.2-1.43.59L10.3 9.45l-7.72 7.72c-.78.78-.78 2.05 0 2.83L4 21.41c.39.39.9.59 1.41.59.51 0 1.02-.2 1.41-.59l7.78-7.78 2.81-2.81c.8-.78.8-2.07 0-2.86zM5.41 20L4 18.59l7.72-7.72 1.47 1.35L5.41 20z\"/>\n",
              "  </svg>\n",
              "      </button>\n",
              "      \n",
              "  <style>\n",
              "    .colab-df-container {\n",
              "      display:flex;\n",
              "      flex-wrap:wrap;\n",
              "      gap: 12px;\n",
              "    }\n",
              "\n",
              "    .colab-df-convert {\n",
              "      background-color: #E8F0FE;\n",
              "      border: none;\n",
              "      border-radius: 50%;\n",
              "      cursor: pointer;\n",
              "      display: none;\n",
              "      fill: #1967D2;\n",
              "      height: 32px;\n",
              "      padding: 0 0 0 0;\n",
              "      width: 32px;\n",
              "    }\n",
              "\n",
              "    .colab-df-convert:hover {\n",
              "      background-color: #E2EBFA;\n",
              "      box-shadow: 0px 1px 2px rgba(60, 64, 67, 0.3), 0px 1px 3px 1px rgba(60, 64, 67, 0.15);\n",
              "      fill: #174EA6;\n",
              "    }\n",
              "\n",
              "    [theme=dark] .colab-df-convert {\n",
              "      background-color: #3B4455;\n",
              "      fill: #D2E3FC;\n",
              "    }\n",
              "\n",
              "    [theme=dark] .colab-df-convert:hover {\n",
              "      background-color: #434B5C;\n",
              "      box-shadow: 0px 1px 3px 1px rgba(0, 0, 0, 0.15);\n",
              "      filter: drop-shadow(0px 1px 2px rgba(0, 0, 0, 0.3));\n",
              "      fill: #FFFFFF;\n",
              "    }\n",
              "  </style>\n",
              "\n",
              "      <script>\n",
              "        const buttonEl =\n",
              "          document.querySelector('#df-2fcf331b-e414-4177-b197-40ed1709f26c button.colab-df-convert');\n",
              "        buttonEl.style.display =\n",
              "          google.colab.kernel.accessAllowed ? 'block' : 'none';\n",
              "\n",
              "        async function convertToInteractive(key) {\n",
              "          const element = document.querySelector('#df-2fcf331b-e414-4177-b197-40ed1709f26c');\n",
              "          const dataTable =\n",
              "            await google.colab.kernel.invokeFunction('convertToInteractive',\n",
              "                                                     [key], {});\n",
              "          if (!dataTable) return;\n",
              "\n",
              "          const docLinkHtml = 'Like what you see? Visit the ' +\n",
              "            '<a target=\"_blank\" href=https://colab.research.google.com/notebooks/data_table.ipynb>data table notebook</a>'\n",
              "            + ' to learn more about interactive tables.';\n",
              "          element.innerHTML = '';\n",
              "          dataTable['output_type'] = 'display_data';\n",
              "          await google.colab.output.renderOutput(dataTable, element);\n",
              "          const docLink = document.createElement('div');\n",
              "          docLink.innerHTML = docLinkHtml;\n",
              "          element.appendChild(docLink);\n",
              "        }\n",
              "      </script>\n",
              "    </div>\n",
              "  </div>\n",
              "  "
            ]
          },
          "metadata": {},
          "execution_count": 6
        }
      ]
    },
    {
      "cell_type": "code",
      "source": [
        "#Shape of the dataset\n",
        "df.shape"
      ],
      "metadata": {
        "colab": {
          "base_uri": "https://localhost:8080/"
        },
        "id": "SIOLpCMTiGmz",
        "outputId": "93a60557-dff9-4092-f435-d60ef805760a"
      },
      "execution_count": 7,
      "outputs": [
        {
          "output_type": "execute_result",
          "data": {
            "text/plain": [
              "(3390, 17)"
            ]
          },
          "metadata": {},
          "execution_count": 7
        }
      ]
    },
    {
      "cell_type": "code",
      "source": [
        "#To get the columns of the dataset\n",
        "df.columns"
      ],
      "metadata": {
        "colab": {
          "base_uri": "https://localhost:8080/"
        },
        "id": "fZxnvsqxiJU6",
        "outputId": "5d92025a-0027-465d-f151-d6e93c759504"
      },
      "execution_count": 8,
      "outputs": [
        {
          "output_type": "execute_result",
          "data": {
            "text/plain": [
              "Index(['id', 'age', 'education', 'sex', 'is_smoking', 'cigsPerDay', 'BPMeds',\n",
              "       'prevalentStroke', 'prevalentHyp', 'diabetes', 'totChol', 'sysBP',\n",
              "       'diaBP', 'BMI', 'heartRate', 'glucose', 'TenYearCHD'],\n",
              "      dtype='object')"
            ]
          },
          "metadata": {},
          "execution_count": 8
        }
      ]
    },
    {
      "cell_type": "code",
      "source": [
        "# number of unique values that each column contains\n",
        "df.nunique()"
      ],
      "metadata": {
        "colab": {
          "base_uri": "https://localhost:8080/"
        },
        "id": "jnGq4lzhiMzq",
        "outputId": "064c2692-56c0-4201-e5dc-b3eb06711066"
      },
      "execution_count": 9,
      "outputs": [
        {
          "output_type": "execute_result",
          "data": {
            "text/plain": [
              "id                 3390\n",
              "age                  39\n",
              "education             4\n",
              "sex                   2\n",
              "is_smoking            2\n",
              "cigsPerDay           32\n",
              "BPMeds                2\n",
              "prevalentStroke       2\n",
              "prevalentHyp          2\n",
              "diabetes              2\n",
              "totChol             240\n",
              "sysBP               226\n",
              "diaBP               142\n",
              "BMI                1259\n",
              "heartRate            68\n",
              "glucose             132\n",
              "TenYearCHD            2\n",
              "dtype: int64"
            ]
          },
          "metadata": {},
          "execution_count": 9
        }
      ]
    },
    {
      "cell_type": "code",
      "source": [
        "#showing the datatype of all features\n",
        "df.info()"
      ],
      "metadata": {
        "colab": {
          "base_uri": "https://localhost:8080/"
        },
        "id": "wi116oPYiO5P",
        "outputId": "4820d88b-c9d2-4ac7-f60f-5e6a8f05b5e7"
      },
      "execution_count": 10,
      "outputs": [
        {
          "output_type": "stream",
          "name": "stdout",
          "text": [
            "<class 'pandas.core.frame.DataFrame'>\n",
            "RangeIndex: 3390 entries, 0 to 3389\n",
            "Data columns (total 17 columns):\n",
            " #   Column           Non-Null Count  Dtype  \n",
            "---  ------           --------------  -----  \n",
            " 0   id               3390 non-null   int64  \n",
            " 1   age              3390 non-null   int64  \n",
            " 2   education        3303 non-null   float64\n",
            " 3   sex              3390 non-null   object \n",
            " 4   is_smoking       3390 non-null   object \n",
            " 5   cigsPerDay       3368 non-null   float64\n",
            " 6   BPMeds           3346 non-null   float64\n",
            " 7   prevalentStroke  3390 non-null   int64  \n",
            " 8   prevalentHyp     3390 non-null   int64  \n",
            " 9   diabetes         3390 non-null   int64  \n",
            " 10  totChol          3352 non-null   float64\n",
            " 11  sysBP            3390 non-null   float64\n",
            " 12  diaBP            3390 non-null   float64\n",
            " 13  BMI              3376 non-null   float64\n",
            " 14  heartRate        3389 non-null   float64\n",
            " 15  glucose          3086 non-null   float64\n",
            " 16  TenYearCHD       3390 non-null   int64  \n",
            "dtypes: float64(9), int64(6), object(2)\n",
            "memory usage: 450.4+ KB\n"
          ]
        }
      ]
    },
    {
      "cell_type": "code",
      "source": [
        "#Summary of the dataset\n",
        "df.describe()"
      ],
      "metadata": {
        "colab": {
          "base_uri": "https://localhost:8080/",
          "height": 364
        },
        "id": "9XFwlmmMiRnZ",
        "outputId": "a5500882-778f-4c60-bbe3-a2fb666f7169"
      },
      "execution_count": 11,
      "outputs": [
        {
          "output_type": "execute_result",
          "data": {
            "text/plain": [
              "                id          age    education   cigsPerDay       BPMeds  \\\n",
              "count  3390.000000  3390.000000  3303.000000  3368.000000  3346.000000   \n",
              "mean   1694.500000    49.542183     1.970936     9.069477     0.029886   \n",
              "std     978.753033     8.592878     1.019081    11.879078     0.170299   \n",
              "min       0.000000    32.000000     1.000000     0.000000     0.000000   \n",
              "25%     847.250000    42.000000     1.000000     0.000000     0.000000   \n",
              "50%    1694.500000    49.000000     2.000000     0.000000     0.000000   \n",
              "75%    2541.750000    56.000000     3.000000    20.000000     0.000000   \n",
              "max    3389.000000    70.000000     4.000000    70.000000     1.000000   \n",
              "\n",
              "       prevalentStroke  prevalentHyp     diabetes      totChol       sysBP  \\\n",
              "count      3390.000000   3390.000000  3390.000000  3352.000000  3390.00000   \n",
              "mean          0.006490      0.315339     0.025664   237.074284   132.60118   \n",
              "std           0.080309      0.464719     0.158153    45.247430    22.29203   \n",
              "min           0.000000      0.000000     0.000000   107.000000    83.50000   \n",
              "25%           0.000000      0.000000     0.000000   206.000000   117.00000   \n",
              "50%           0.000000      0.000000     0.000000   234.000000   128.50000   \n",
              "75%           0.000000      1.000000     0.000000   264.000000   144.00000   \n",
              "max           1.000000      1.000000     1.000000   696.000000   295.00000   \n",
              "\n",
              "             diaBP          BMI    heartRate      glucose   TenYearCHD  \n",
              "count  3390.000000  3376.000000  3389.000000  3086.000000  3390.000000  \n",
              "mean     82.883038    25.794964    75.977279    82.086520     0.150737  \n",
              "std      12.023581     4.115449    11.971868    24.244753     0.357846  \n",
              "min      48.000000    15.960000    45.000000    40.000000     0.000000  \n",
              "25%      74.500000    23.020000    68.000000    71.000000     0.000000  \n",
              "50%      82.000000    25.380000    75.000000    78.000000     0.000000  \n",
              "75%      90.000000    28.040000    83.000000    87.000000     0.000000  \n",
              "max     142.500000    56.800000   143.000000   394.000000     1.000000  "
            ],
            "text/html": [
              "\n",
              "  <div id=\"df-92ec794e-ee11-4134-b7dc-719d81fd8478\">\n",
              "    <div class=\"colab-df-container\">\n",
              "      <div>\n",
              "<style scoped>\n",
              "    .dataframe tbody tr th:only-of-type {\n",
              "        vertical-align: middle;\n",
              "    }\n",
              "\n",
              "    .dataframe tbody tr th {\n",
              "        vertical-align: top;\n",
              "    }\n",
              "\n",
              "    .dataframe thead th {\n",
              "        text-align: right;\n",
              "    }\n",
              "</style>\n",
              "<table border=\"1\" class=\"dataframe\">\n",
              "  <thead>\n",
              "    <tr style=\"text-align: right;\">\n",
              "      <th></th>\n",
              "      <th>id</th>\n",
              "      <th>age</th>\n",
              "      <th>education</th>\n",
              "      <th>cigsPerDay</th>\n",
              "      <th>BPMeds</th>\n",
              "      <th>prevalentStroke</th>\n",
              "      <th>prevalentHyp</th>\n",
              "      <th>diabetes</th>\n",
              "      <th>totChol</th>\n",
              "      <th>sysBP</th>\n",
              "      <th>diaBP</th>\n",
              "      <th>BMI</th>\n",
              "      <th>heartRate</th>\n",
              "      <th>glucose</th>\n",
              "      <th>TenYearCHD</th>\n",
              "    </tr>\n",
              "  </thead>\n",
              "  <tbody>\n",
              "    <tr>\n",
              "      <th>count</th>\n",
              "      <td>3390.000000</td>\n",
              "      <td>3390.000000</td>\n",
              "      <td>3303.000000</td>\n",
              "      <td>3368.000000</td>\n",
              "      <td>3346.000000</td>\n",
              "      <td>3390.000000</td>\n",
              "      <td>3390.000000</td>\n",
              "      <td>3390.000000</td>\n",
              "      <td>3352.000000</td>\n",
              "      <td>3390.00000</td>\n",
              "      <td>3390.000000</td>\n",
              "      <td>3376.000000</td>\n",
              "      <td>3389.000000</td>\n",
              "      <td>3086.000000</td>\n",
              "      <td>3390.000000</td>\n",
              "    </tr>\n",
              "    <tr>\n",
              "      <th>mean</th>\n",
              "      <td>1694.500000</td>\n",
              "      <td>49.542183</td>\n",
              "      <td>1.970936</td>\n",
              "      <td>9.069477</td>\n",
              "      <td>0.029886</td>\n",
              "      <td>0.006490</td>\n",
              "      <td>0.315339</td>\n",
              "      <td>0.025664</td>\n",
              "      <td>237.074284</td>\n",
              "      <td>132.60118</td>\n",
              "      <td>82.883038</td>\n",
              "      <td>25.794964</td>\n",
              "      <td>75.977279</td>\n",
              "      <td>82.086520</td>\n",
              "      <td>0.150737</td>\n",
              "    </tr>\n",
              "    <tr>\n",
              "      <th>std</th>\n",
              "      <td>978.753033</td>\n",
              "      <td>8.592878</td>\n",
              "      <td>1.019081</td>\n",
              "      <td>11.879078</td>\n",
              "      <td>0.170299</td>\n",
              "      <td>0.080309</td>\n",
              "      <td>0.464719</td>\n",
              "      <td>0.158153</td>\n",
              "      <td>45.247430</td>\n",
              "      <td>22.29203</td>\n",
              "      <td>12.023581</td>\n",
              "      <td>4.115449</td>\n",
              "      <td>11.971868</td>\n",
              "      <td>24.244753</td>\n",
              "      <td>0.357846</td>\n",
              "    </tr>\n",
              "    <tr>\n",
              "      <th>min</th>\n",
              "      <td>0.000000</td>\n",
              "      <td>32.000000</td>\n",
              "      <td>1.000000</td>\n",
              "      <td>0.000000</td>\n",
              "      <td>0.000000</td>\n",
              "      <td>0.000000</td>\n",
              "      <td>0.000000</td>\n",
              "      <td>0.000000</td>\n",
              "      <td>107.000000</td>\n",
              "      <td>83.50000</td>\n",
              "      <td>48.000000</td>\n",
              "      <td>15.960000</td>\n",
              "      <td>45.000000</td>\n",
              "      <td>40.000000</td>\n",
              "      <td>0.000000</td>\n",
              "    </tr>\n",
              "    <tr>\n",
              "      <th>25%</th>\n",
              "      <td>847.250000</td>\n",
              "      <td>42.000000</td>\n",
              "      <td>1.000000</td>\n",
              "      <td>0.000000</td>\n",
              "      <td>0.000000</td>\n",
              "      <td>0.000000</td>\n",
              "      <td>0.000000</td>\n",
              "      <td>0.000000</td>\n",
              "      <td>206.000000</td>\n",
              "      <td>117.00000</td>\n",
              "      <td>74.500000</td>\n",
              "      <td>23.020000</td>\n",
              "      <td>68.000000</td>\n",
              "      <td>71.000000</td>\n",
              "      <td>0.000000</td>\n",
              "    </tr>\n",
              "    <tr>\n",
              "      <th>50%</th>\n",
              "      <td>1694.500000</td>\n",
              "      <td>49.000000</td>\n",
              "      <td>2.000000</td>\n",
              "      <td>0.000000</td>\n",
              "      <td>0.000000</td>\n",
              "      <td>0.000000</td>\n",
              "      <td>0.000000</td>\n",
              "      <td>0.000000</td>\n",
              "      <td>234.000000</td>\n",
              "      <td>128.50000</td>\n",
              "      <td>82.000000</td>\n",
              "      <td>25.380000</td>\n",
              "      <td>75.000000</td>\n",
              "      <td>78.000000</td>\n",
              "      <td>0.000000</td>\n",
              "    </tr>\n",
              "    <tr>\n",
              "      <th>75%</th>\n",
              "      <td>2541.750000</td>\n",
              "      <td>56.000000</td>\n",
              "      <td>3.000000</td>\n",
              "      <td>20.000000</td>\n",
              "      <td>0.000000</td>\n",
              "      <td>0.000000</td>\n",
              "      <td>1.000000</td>\n",
              "      <td>0.000000</td>\n",
              "      <td>264.000000</td>\n",
              "      <td>144.00000</td>\n",
              "      <td>90.000000</td>\n",
              "      <td>28.040000</td>\n",
              "      <td>83.000000</td>\n",
              "      <td>87.000000</td>\n",
              "      <td>0.000000</td>\n",
              "    </tr>\n",
              "    <tr>\n",
              "      <th>max</th>\n",
              "      <td>3389.000000</td>\n",
              "      <td>70.000000</td>\n",
              "      <td>4.000000</td>\n",
              "      <td>70.000000</td>\n",
              "      <td>1.000000</td>\n",
              "      <td>1.000000</td>\n",
              "      <td>1.000000</td>\n",
              "      <td>1.000000</td>\n",
              "      <td>696.000000</td>\n",
              "      <td>295.00000</td>\n",
              "      <td>142.500000</td>\n",
              "      <td>56.800000</td>\n",
              "      <td>143.000000</td>\n",
              "      <td>394.000000</td>\n",
              "      <td>1.000000</td>\n",
              "    </tr>\n",
              "  </tbody>\n",
              "</table>\n",
              "</div>\n",
              "      <button class=\"colab-df-convert\" onclick=\"convertToInteractive('df-92ec794e-ee11-4134-b7dc-719d81fd8478')\"\n",
              "              title=\"Convert this dataframe to an interactive table.\"\n",
              "              style=\"display:none;\">\n",
              "        \n",
              "  <svg xmlns=\"http://www.w3.org/2000/svg\" height=\"24px\"viewBox=\"0 0 24 24\"\n",
              "       width=\"24px\">\n",
              "    <path d=\"M0 0h24v24H0V0z\" fill=\"none\"/>\n",
              "    <path d=\"M18.56 5.44l.94 2.06.94-2.06 2.06-.94-2.06-.94-.94-2.06-.94 2.06-2.06.94zm-11 1L8.5 8.5l.94-2.06 2.06-.94-2.06-.94L8.5 2.5l-.94 2.06-2.06.94zm10 10l.94 2.06.94-2.06 2.06-.94-2.06-.94-.94-2.06-.94 2.06-2.06.94z\"/><path d=\"M17.41 7.96l-1.37-1.37c-.4-.4-.92-.59-1.43-.59-.52 0-1.04.2-1.43.59L10.3 9.45l-7.72 7.72c-.78.78-.78 2.05 0 2.83L4 21.41c.39.39.9.59 1.41.59.51 0 1.02-.2 1.41-.59l7.78-7.78 2.81-2.81c.8-.78.8-2.07 0-2.86zM5.41 20L4 18.59l7.72-7.72 1.47 1.35L5.41 20z\"/>\n",
              "  </svg>\n",
              "      </button>\n",
              "      \n",
              "  <style>\n",
              "    .colab-df-container {\n",
              "      display:flex;\n",
              "      flex-wrap:wrap;\n",
              "      gap: 12px;\n",
              "    }\n",
              "\n",
              "    .colab-df-convert {\n",
              "      background-color: #E8F0FE;\n",
              "      border: none;\n",
              "      border-radius: 50%;\n",
              "      cursor: pointer;\n",
              "      display: none;\n",
              "      fill: #1967D2;\n",
              "      height: 32px;\n",
              "      padding: 0 0 0 0;\n",
              "      width: 32px;\n",
              "    }\n",
              "\n",
              "    .colab-df-convert:hover {\n",
              "      background-color: #E2EBFA;\n",
              "      box-shadow: 0px 1px 2px rgba(60, 64, 67, 0.3), 0px 1px 3px 1px rgba(60, 64, 67, 0.15);\n",
              "      fill: #174EA6;\n",
              "    }\n",
              "\n",
              "    [theme=dark] .colab-df-convert {\n",
              "      background-color: #3B4455;\n",
              "      fill: #D2E3FC;\n",
              "    }\n",
              "\n",
              "    [theme=dark] .colab-df-convert:hover {\n",
              "      background-color: #434B5C;\n",
              "      box-shadow: 0px 1px 3px 1px rgba(0, 0, 0, 0.15);\n",
              "      filter: drop-shadow(0px 1px 2px rgba(0, 0, 0, 0.3));\n",
              "      fill: #FFFFFF;\n",
              "    }\n",
              "  </style>\n",
              "\n",
              "      <script>\n",
              "        const buttonEl =\n",
              "          document.querySelector('#df-92ec794e-ee11-4134-b7dc-719d81fd8478 button.colab-df-convert');\n",
              "        buttonEl.style.display =\n",
              "          google.colab.kernel.accessAllowed ? 'block' : 'none';\n",
              "\n",
              "        async function convertToInteractive(key) {\n",
              "          const element = document.querySelector('#df-92ec794e-ee11-4134-b7dc-719d81fd8478');\n",
              "          const dataTable =\n",
              "            await google.colab.kernel.invokeFunction('convertToInteractive',\n",
              "                                                     [key], {});\n",
              "          if (!dataTable) return;\n",
              "\n",
              "          const docLinkHtml = 'Like what you see? Visit the ' +\n",
              "            '<a target=\"_blank\" href=https://colab.research.google.com/notebooks/data_table.ipynb>data table notebook</a>'\n",
              "            + ' to learn more about interactive tables.';\n",
              "          element.innerHTML = '';\n",
              "          dataTable['output_type'] = 'display_data';\n",
              "          await google.colab.output.renderOutput(dataTable, element);\n",
              "          const docLink = document.createElement('div');\n",
              "          docLink.innerHTML = docLinkHtml;\n",
              "          element.appendChild(docLink);\n",
              "        }\n",
              "      </script>\n",
              "    </div>\n",
              "  </div>\n",
              "  "
            ]
          },
          "metadata": {},
          "execution_count": 11
        }
      ]
    },
    {
      "cell_type": "markdown",
      "source": [
        "# **Data Cleaning**"
      ],
      "metadata": {
        "id": "iIs5Pp1SiX3l"
      }
    },
    {
      "cell_type": "code",
      "source": [
        "df.drop(\"id\",axis=1,inplace=True)\n",
        "df.drop_duplicates(inplace=True)"
      ],
      "metadata": {
        "id": "iLLXgUgxiU88"
      },
      "execution_count": 12,
      "outputs": []
    },
    {
      "cell_type": "code",
      "source": [
        "\n",
        "#Checking of Missing value\n",
        "df.isnull().sum()"
      ],
      "metadata": {
        "colab": {
          "base_uri": "https://localhost:8080/"
        },
        "id": "_gMyU81tieBs",
        "outputId": "1c64d0cb-2adc-4432-ba86-2e6b25d74033"
      },
      "execution_count": 13,
      "outputs": [
        {
          "output_type": "execute_result",
          "data": {
            "text/plain": [
              "age                  0\n",
              "education           87\n",
              "sex                  0\n",
              "is_smoking           0\n",
              "cigsPerDay          22\n",
              "BPMeds              44\n",
              "prevalentStroke      0\n",
              "prevalentHyp         0\n",
              "diabetes             0\n",
              "totChol             38\n",
              "sysBP                0\n",
              "diaBP                0\n",
              "BMI                 14\n",
              "heartRate            1\n",
              "glucose            304\n",
              "TenYearCHD           0\n",
              "dtype: int64"
            ]
          },
          "metadata": {},
          "execution_count": 13
        }
      ]
    },
    {
      "cell_type": "markdown",
      "source": [
        "## **Comment :- There are misisng values present in the features such as education,cigsPerDay, BPMeds, totChol, BMI,heartRate & glucose.**"
      ],
      "metadata": {
        "id": "m-cI-cQwikAV"
      }
    },
    {
      "cell_type": "code",
      "source": [
        "# To remove the missing values-\n",
        "df.dropna(axis=0,inplace=True)\n",
        "df.shape"
      ],
      "metadata": {
        "colab": {
          "base_uri": "https://localhost:8080/"
        },
        "id": "yfJaOEzyihMp",
        "outputId": "21e03515-062e-4683-da06-d10554f25dd6"
      },
      "execution_count": 14,
      "outputs": [
        {
          "output_type": "execute_result",
          "data": {
            "text/plain": [
              "(2927, 16)"
            ]
          },
          "metadata": {},
          "execution_count": 14
        }
      ]
    },
    {
      "cell_type": "code",
      "source": [
        "#Visualization of NAN values in the dataset-\n",
        "mno.matrix(df,figsize=(10,5),color=(0.5,0.0,0.15))"
      ],
      "metadata": {
        "colab": {
          "base_uri": "https://localhost:8080/",
          "height": 470
        },
        "id": "0Pvt1CMFim5J",
        "outputId": "4235f4c1-4e0d-4f87-933d-6d7671d7f854"
      },
      "execution_count": 15,
      "outputs": [
        {
          "output_type": "execute_result",
          "data": {
            "text/plain": [
              "<matplotlib.axes._subplots.AxesSubplot at 0x7f3c8167e950>"
            ]
          },
          "metadata": {},
          "execution_count": 15
        },
        {
          "output_type": "display_data",
          "data": {
            "text/plain": [
              "<Figure size 720x360 with 2 Axes>"
            ],
            "image/png": "[encoded data removed]"
          },
          "metadata": {}
        }
      ]
    }
  ]
}